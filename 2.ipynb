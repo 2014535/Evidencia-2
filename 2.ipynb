{
  "nbformat": 4,
  "nbformat_minor": 0,
  "metadata": {
    "colab": {
      "provenance": []
    },
    "kernelspec": {
      "name": "python3",
      "display_name": "Python 3"
    },
    "language_info": {
      "name": "python"
    }
  },
  "cells": [
    {
      "cell_type": "code",
      "execution_count": 6,
      "metadata": {
        "colab": {
          "base_uri": "https://localhost:8080/"
        },
        "id": "3ASBp5VgNTDM",
        "outputId": "dc652dfb-a1d3-4cce-d63c-e3ddfacec835"
      },
      "outputs": [
        {
          "output_type": "stream",
          "name": "stdout",
          "text": [
            "Nombre: diego\n",
            "Nota: 2\n",
            "Libre\n",
            "Nombre: ana\n",
            "Nota: 10\n",
            "Regular\n"
          ]
        }
      ],
      "source": [
        "class Alumno:\n",
        "\n",
        "    def inicializar(self,nombre,nota):\n",
        "        self.nombre=nombre\n",
        "        self.nota=nota\n",
        "\n",
        "    def imprimir(self):\n",
        "        print(\"Nombre:\",self.nombre)\n",
        "        print(\"Nota:\",self.nota)\n",
        "\n",
        "    def mostrar_estado(self):\n",
        "        if self.nota>=4:\n",
        "            print(\"Regular\")\n",
        "        else:\n",
        "            print(\"Libre\")\n",
        "\n",
        "\n",
        "# bloque principal\n",
        "\n",
        "alumno1=Alumno()\n",
        "alumno1.inicializar(\"diego\",2)\n",
        "alumno1.imprimir()\n",
        "alumno1.mostrar_estado()\n",
        "\n",
        "alumno2=Alumno()\n",
        "alumno2.inicializar(\"ana\",10)\n",
        "alumno2.imprimir()\n",
        "alumno2.mostrar_estado()"
      ]
    }
  ]
}