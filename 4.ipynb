{
  "nbformat": 4,
  "nbformat_minor": 0,
  "metadata": {
    "colab": {
      "provenance": []
    },
    "kernelspec": {
      "name": "python3",
      "display_name": "Python 3"
    },
    "language_info": {
      "name": "python"
    }
  },
  "cells": [
    {
      "cell_type": "code",
      "execution_count": 4,
      "metadata": {
        "colab": {
          "base_uri": "https://localhost:8080/"
        },
        "id": "3ASBp5VgNTDM",
        "outputId": "c3ef8082-823e-408c-e326-1d1435edbd63"
      },
      "outputs": [
        {
          "output_type": "stream",
          "name": "stdout",
          "text": [
            "Ingrese primer lado:3\n",
            "Ingrese segundo lado:3\n",
            "Ingrese tercer lado:3\n",
            "Valores de los lados del triangulo\n",
            "Lado 1 3\n",
            "Lado 2 3\n",
            "Lado 3 3\n",
            "Lado mayor\n",
            "3\n",
            "El triangulo es equilatero\n"
          ]
        }
      ],
      "source": [
        "class Triangulo:\n",
        "\n",
        "    def inicializar(self):\n",
        "        self.lado1=int(input(\"Ingrese primer lado:\"))\n",
        "        self.lado2=int(input(\"Ingrese segundo lado:\"))\n",
        "        self.lado3=int(input(\"Ingrese tercer lado:\"))\n",
        "\n",
        "    def imprimir(self):\n",
        "        print(\"Valores de los lados del triangulo\")\n",
        "        print(\"Lado 1\",self.lado1)\n",
        "        print(\"Lado 2\",self.lado2)\n",
        "        print(\"Lado 3\",self.lado3)\n",
        "\n",
        "    def lado_mayor(self):\n",
        "        print(\"Lado mayor\")\n",
        "        if self.lado1>self.lado2 and self.lado1>self.lado3:\n",
        "            print(self.lado1)\n",
        "        else:\n",
        "            if self.lado2>self.lado3:\n",
        "                print(self.lado2)\n",
        "            else:\n",
        "                print(self.lado3)\n",
        "\n",
        "    def es_equilatero(self):\n",
        "        if self.lado1==self.lado2 and self.lado1==self.lado3:\n",
        "            print(\"El triangulo es equilatero\")\n",
        "        else:\n",
        "            print(\"El triangulo no es equilatero\")\n",
        "\n",
        "# bloque principal\n",
        "\n",
        "triangulo1=Triangulo()\n",
        "triangulo1.inicializar()\n",
        "triangulo1.imprimir()\n",
        "triangulo1.lado_mayor()\n",
        "triangulo1.es_equilatero()"
      ]
    }
  ]
}