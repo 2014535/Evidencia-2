{
  "nbformat": 4,
  "nbformat_minor": 0,
  "metadata": {
    "colab": {
      "provenance": []
    },
    "kernelspec": {
      "name": "python3",
      "display_name": "Python 3"
    },
    "language_info": {
      "name": "python"
    }
  },
  "cells": [
    {
      "cell_type": "code",
      "execution_count": 5,
      "metadata": {
        "colab": {
          "base_uri": "https://localhost:8080/"
        },
        "id": "3ASBp5VgNTDM",
        "outputId": "3d5cb732-f515-4901-e9dd-57b14b42f39c"
      },
      "outputs": [
        {
          "output_type": "stream",
          "name": "stdout",
          "text": [
            "Nombre diego\n",
            "Edad 40\n",
            "Es mayor de edad\n"
          ]
        }
      ],
      "source": [
        "class Persona:\n",
        "\n",
        "    def inicializar(self,nombre,edad):\n",
        "        self.nombre=nombre\n",
        "        self.edad=edad\n",
        "\n",
        "    def imprimir(self):\n",
        "        print(\"Nombre\",self.nombre)\n",
        "        print(\"Edad\",self.edad)\n",
        "\n",
        "    def mayor_edad(self):\n",
        "        if self.edad>=18:\n",
        "            print(\"Es mayor de edad\")\n",
        "        else:\n",
        "            print(\"No es mayor de edad\")\n",
        "\n",
        "\n",
        "# bloque principal\n",
        "\n",
        "persona1=Persona()\n",
        "persona1.inicializar(\"diego\",40)\n",
        "persona1.imprimir()\n",
        "persona1.mayor_edad()"
      ]
    }
  ]
}